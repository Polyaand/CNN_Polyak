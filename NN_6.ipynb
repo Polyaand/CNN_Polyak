{
 "cells": [
  {
   "cell_type": "code",
   "execution_count": 2,
   "metadata": {},
   "outputs": [
    {
     "name": "stdout",
     "output_type": "stream",
     "text": [
      "24946\n"
     ]
    }
   ],
   "source": [
    "#KONVOLUCNI NEURONOVA SIT Andrej Polyak\n",
    "\n",
    "###PRIPRAVA TRENOVACICH DAT\n",
    "#1,dve ruzne skupiny A:kocky B:psy\n",
    "\n",
    "import os\n",
    "import cv2\n",
    "import numpy as np\n",
    "from tqdm import tqdm\n",
    "#Import Knihoven\n",
    "\n",
    "\n",
    "\n",
    "##1,Jako trenovaci data jsem pouzil Dogs vs Cats dataset od microsoftu \n",
    "\n",
    "\n",
    "\n",
    "REBUILD_DATA = False # True pro prvni trenovani jinak false pokud nechci menit trenovaci data\n",
    "\n",
    "class DogsVSCats():\n",
    "    IMG_SIZE = 50\n",
    "    CATS = \"PetImages/Cat\"\n",
    "    DOGS = \"PetImages/Dog\"\n",
    "    TESTING = \"PetImages/Testing\"\n",
    "    LABELS = {CATS: 0, DOGS: 1}\n",
    "    training_data = []\n",
    "\n",
    "    catcount = 0\n",
    "    dogcount = 0\n",
    "#RESIZE TRENOVACICH DAT NA 50x50 \n",
    "\n",
    "###>>Snazim se opakovane projit adresar kocek a psu, uchopit obrazek zmenit mu velikost\n",
    "### a prevest tridy kocek a psu (kocky=0,psy=1) a potom na trenovaci data<<\n",
    "    \n",
    "\n",
    "#***Prochazeni adresaru kocek a psu a prohlizeni vsech obrazku***#\n",
    "    def make_training_data(self): ## Vytvoreni nove metody \"make_training_data\"\n",
    "        for label in self.LABELS:\n",
    "            print(label)\n",
    "            for f in tqdm(os.listdir(label)):\n",
    "                if \"jpg\" in f:\n",
    "#***Prochazeni adresaru kocek a psu a prohlizeni vsech obrazku***#\n",
    "\n",
    "\n",
    "\n",
    "\n",
    "##***Prosel jsem data, prevedl je na sedoton, resizel je. \n",
    "##***Data v podobe cisel (kocky=0,psy=1) + obrazova data pridana do skupiny training_data\n",
    "                    try:\n",
    "                        path = os.path.join(label, f)\n",
    "                        img = cv2.imread(path, cv2.IMREAD_GRAYSCALE)\n",
    "                        img = cv2.resize(img, (self.IMG_SIZE, self.IMG_SIZE))\n",
    "                        self.training_data.append([np.array(img), np.eye(2)[self.LABELS[label]]]) ###eye prevod matice na vektor 2d>1d\n",
    "                        \n",
    "                        ###***Vypocet vah pro klasifikaci***###\n",
    "                        if label == self.CATS:\n",
    "                            self.catcount += 1\n",
    "                        elif label == self.DOGS:\n",
    "                            self.dogcount += 1\n",
    "                        ###***Vypocet vah pro klasifikaci***###\n",
    "\n",
    "                    except Exception as e:# Nektere obrazky nejsou vhodne, vyhnuti erroru\n",
    "                        pass\n",
    "##***Prosel jsem data, prevedl je na sedoton, resizel je. \n",
    "##***Data v podobe cisel (kocky=0,psy=1) + obrazova data pridana do skupiny training_data\n",
    "                        \n",
    "\n",
    "        \n",
    "###***Zamichani trenovacicih dat***###      \n",
    "        np.random.shuffle(self.training_data)\n",
    "        np.save(\"training_data.npy\", self.training_data)\n",
    "        print('Cats:',dogsvcats.catcount)\n",
    "        print('Dogs:',dogsvcats.dogcount)\n",
    "###***Zamichani trenovacicih dat***###  \n",
    "\n",
    "\n",
    "if REBUILD_DATA:\n",
    "    dogsvcats = DogsVSCats()\n",
    "    dogsvcats.make_training_data()\n",
    "\n",
    "\n",
    "training_data = np.load(\"training_data.npy\", allow_pickle=True)##Trenovaci dat jednou natrenovat a dost!\n",
    "print(len(training_data))\n"
   ]
  },
  {
   "cell_type": "code",
   "execution_count": 3,
   "metadata": {},
   "outputs": [],
   "source": [
    "###STAVBA KONVOLUCNI NEURONOVE SITE\n",
    "###Import knihoven\n",
    "import torch\n",
    "import torch.nn as nn\n",
    "import torch.nn.functional as F\n",
    "\n"
   ]
  },
  {
   "cell_type": "code",
   "execution_count": 4,
   "metadata": {},
   "outputs": [
    {
     "name": "stdout",
     "output_type": "stream",
     "text": [
      "Net(\n",
      "  (conv1): Conv2d(1, 32, kernel_size=(5, 5), stride=(1, 1))\n",
      "  (conv2): Conv2d(32, 64, kernel_size=(5, 5), stride=(1, 1))\n",
      "  (conv3): Conv2d(64, 128, kernel_size=(5, 5), stride=(1, 1))\n",
      "  (fc1): Linear(in_features=512, out_features=512, bias=True)\n",
      "  (fc2): Linear(in_features=512, out_features=2, bias=True)\n",
      ")\n"
     ]
    }
   ],
   "source": [
    "class Net(nn.Module):\n",
    "    def __init__(self):\n",
    "        super().__init__()#METODY\n",
    "        \n",
    "        ###***2D Konvolucni vrstvy pro 2D obrazek***###\n",
    "        self.conv1 = nn.Conv2d(1, 32, 5) # vstup je 1 obrazek, 32 transformovany vystup, 5x5 konvolucni jadro\n",
    "        self.conv2 = nn.Conv2d(32, 64, 5)# vtsup 32, vystup 64, konvolucni jadro 5x5\n",
    "        self.conv3 = nn.Conv2d(64, 128, 5)#vstup 64, vystup 128, konvolucni jadro 5x5\n",
    "        ###***2D Konvolucni vrstvy pro 2D obrazek***###\n",
    "\n",
    "        ###Pracuji s pytrochem a potrebuji mit linearni vrstvy jako rozdeleni predpovedi\n",
    "        ###***Prevod vrstev na linearni (ze spiraly zplosteni do linearity)***###\n",
    "        x = torch.randn(50,50).view(-1,1,50,50)#falesny tensor(data), ktery se posila do neuronky bude mit tenhle tvar (-1,1,50,50) \n",
    "        self._to_linear = None #kdykoliv inicializuji vytvorim nahodna data\n",
    "        self.convs(x)#predam nahodna data x, tyto nahodna data jsou soucasti realnych z konvolucnich vrstev\n",
    "        \n",
    "        \n",
    "        #2 LINEARNI VRSTVY **ke sjednoceni \"self._to_linear\" chytit rozmery tensoru a znasobit je\n",
    "        ##pytroch nema zplostovaci funkci jako napriklad keras\n",
    "        ### proto se musi vyrovnat vystup z posledni vrstvy nez projedou pravou vrstvou v pytrochi \"linearni\".\n",
    "        self.fc1 = nn.Linear(self._to_linear, 512)# vstup je object \"self._to_linear\" z funkce nize ,vystup 512 hustych vrstev \n",
    "        self.fc2 = nn.Linear(512, 2) # 512 vstup, vystup 2 (kocky,psi)\n",
    "        ###***Prevod vrstev na linearni (ze spiraly zplosteni do linearity)***###\n",
    "        \n",
    "        \n",
    "        ###***Funkce: znasobeni linearniho a konvolucniho vystupu***#\n",
    "    def convs(self, x):\n",
    "        # max pooling over 2x2\n",
    "        x = F.max_pool2d(F.relu(self.conv1(x)), (2, 2))#kopie pravidelne konvolucni vrtsvy,linearni data na konvolucnich vrstvach,potom okno 2x2\n",
    "        x = F.max_pool2d(F.relu(self.conv2(x)), (2, 2))\n",
    "        x = F.max_pool2d(F.relu(self.conv3(x)), (2, 2))\n",
    "        \n",
    "        #print(x[0].shape)##je potreba jednou zachtit pro napojeni na hlavni tvar\n",
    "\n",
    "        if self._to_linear is None:\n",
    "            self._to_linear = x[0].shape[0]*x[0].shape[1]*x[0].shape[2]#pridani tvaru do vystupu z prave vrstvy pomoci nasobeni \n",
    "        return x\n",
    "\n",
    "    def forward(self, x):\n",
    "        x = self.convs(x)# vsechny konvolucni vrstvy\n",
    "        x = x.view(-1, self._to_linear)  # zaplnovani daty (tvaru) objektu \"self._to_linear\"\n",
    "        x = F.relu(self.fc1(x))#poslem to do linarni vrstvy \n",
    "        x = self.fc2(x) # finalni linearni vrstva\n",
    "        return F.softmax(x, dim=1)#aktivacni funkce\n",
    "\n",
    "\n",
    "net = Net()\n",
    "print(net)"
   ]
  },
  {
   "cell_type": "code",
   "execution_count": 5,
   "metadata": {},
   "outputs": [],
   "source": [
    "### TRENOVANI KONVOLUCNI NERONOVE SITE #####\n",
    "\n",
    "\n",
    "##Import optimalizatoru pro trenovani koncolucni neuronove site\n",
    "\n",
    "import torch.optim as optim\n",
    "\n",
    "optimizer = optim.Adam(net.parameters(), lr=0.001)\n",
    "loss_function = nn.MSELoss()#stredni chyba na druhou"
   ]
  },
  {
   "cell_type": "code",
   "execution_count": 6,
   "metadata": {},
   "outputs": [],
   "source": [
    "###Odedeleni y od X (tensoru) z trenovacich dat (falesne prave)\n",
    "\n",
    "X = torch.Tensor([i[0] for i in training_data]).view(-1,50,50)\n",
    "X = X/255.0#potrebuji pixely 0-1 ne 0-255\n",
    "y = torch.Tensor([i[1] for i in training_data])"
   ]
  },
  {
   "cell_type": "code",
   "execution_count": 7,
   "metadata": {},
   "outputs": [
    {
     "name": "stdout",
     "output_type": "stream",
     "text": [
      "2494\n"
     ]
    }
   ],
   "source": [
    "##Oddeleni trenovacich a testovacich dat\n",
    "\n",
    "VAL_PCT = 0.1  # 10% trenovacich dat\n",
    "val_size = int(len(X)*VAL_PCT)\n",
    "print(val_size)"
   ]
  },
  {
   "cell_type": "code",
   "execution_count": 8,
   "metadata": {},
   "outputs": [],
   "source": [
    "###Trenovaci a testovaci data\n",
    "\n",
    "train_X = X[:-val_size]\n",
    "train_y = y[:-val_size]\n",
    "\n",
    "test_X = X[-val_size:]\n",
    "test_y = y[-val_size:]"
   ]
  },
  {
   "cell_type": "code",
   "execution_count": 10,
   "metadata": {},
   "outputs": [
    {
     "name": "stdout",
     "output_type": "stream",
     "text": [
      "22452 2494\n"
     ]
    }
   ],
   "source": [
    "print(len(train_X), len(test_X))"
   ]
  },
  {
   "cell_type": "code",
   "execution_count": 11,
   "metadata": {},
   "outputs": [
    {
     "name": "stderr",
     "output_type": "stream",
     "text": [
      "100%|██████████| 225/225 [02:02<00:00,  1.84it/s]\n",
      "  0%|          | 0/225 [00:00<?, ?it/s]"
     ]
    },
    {
     "name": "stdout",
     "output_type": "stream",
     "text": [
      "Epoch: 0. Loss: 0.2473745346069336\n"
     ]
    },
    {
     "name": "stderr",
     "output_type": "stream",
     "text": [
      "100%|██████████| 225/225 [01:52<00:00,  2.00it/s]\n",
      "  0%|          | 0/225 [00:00<?, ?it/s]"
     ]
    },
    {
     "name": "stdout",
     "output_type": "stream",
     "text": [
      "Epoch: 1. Loss: 0.23817740380764008\n"
     ]
    },
    {
     "name": "stderr",
     "output_type": "stream",
     "text": [
      "100%|██████████| 225/225 [01:52<00:00,  2.00it/s]"
     ]
    },
    {
     "name": "stdout",
     "output_type": "stream",
     "text": [
      "Epoch: 2. Loss: 0.17594939470291138\n"
     ]
    },
    {
     "name": "stderr",
     "output_type": "stream",
     "text": [
      "\n"
     ]
    }
   ],
   "source": [
    "###Trenovani neuronky 3 periody po 100 davkach dat\n",
    "\n",
    "BATCH_SIZE = 100\n",
    "EPOCHS = 3\n",
    "\n",
    "for epoch in range(EPOCHS):\n",
    "    for i in tqdm(range(0, len(train_X), BATCH_SIZE)): # from 0, to the len of x, stepping BATCH_SIZE at a time. [:50] ..for now just to dev\n",
    "        #print(f\"{i}:{i+BATCH_SIZE}\")\n",
    "        batch_X = train_X[i:i+BATCH_SIZE].view(-1, 1, 50, 50)\n",
    "        batch_y = train_y[i:i+BATCH_SIZE]\n",
    "\n",
    "        net.zero_grad()\n",
    "\n",
    "        outputs = net(batch_X)\n",
    "        loss = loss_function(outputs, batch_y)\n",
    "        loss.backward()\n",
    "        optimizer.step()    # Does the update\n",
    "\n",
    "    print(f\"Epoch: {epoch}. Loss: {loss}\")"
   ]
  },
  {
   "cell_type": "code",
   "execution_count": 12,
   "metadata": {
    "scrolled": true
   },
   "outputs": [
    {
     "name": "stderr",
     "output_type": "stream",
     "text": [
      "100%|██████████| 2494/2494 [00:06<00:00, 378.87it/s]"
     ]
    },
    {
     "name": "stdout",
     "output_type": "stream",
     "text": [
      "Accuracy:  0.721\n"
     ]
    },
    {
     "name": "stderr",
     "output_type": "stream",
     "text": [
      "\n"
     ]
    }
   ],
   "source": [
    "### presnost 70% po 3 epochah je dobra kdyz jsou data rozdelena skoro 50/50\n",
    "\n",
    "correct = 0\n",
    "total = 0\n",
    "with torch.no_grad():\n",
    "    for i in tqdm(range(len(test_X))):\n",
    "        real_class = torch.argmax(test_y[i])\n",
    "        net_out = net(test_X[i].view(-1, 1, 50, 50))[0]  # returns a list, \n",
    "        predicted_class = torch.argmax(net_out)\n",
    "\n",
    "        if predicted_class == real_class:\n",
    "            correct += 1\n",
    "        total += 1\n",
    "print(\"Accuracy: \", round(correct/total, 3))"
   ]
  },
  {
   "cell_type": "code",
   "execution_count": 13,
   "metadata": {},
   "outputs": [
    {
     "name": "stdout",
     "output_type": "stream",
     "text": [
      "[array([[ 29,  26,  28, ..., 107, 149, 185],\n",
      "       [ 20,  24,  18, ..., 125,  23, 217],\n",
      "       [ 21,  17,  16, ..., 122,  21, 246],\n",
      "       ...,\n",
      "       [ 15,  13,   9, ...,  58,  55,  51],\n",
      "       [ 15,  11,  12, ...,  52,  52,  57],\n",
      "       [ 10,  10,  12, ...,  49,  52,  51]], dtype=uint8)\n",
      " array([1., 0.])]\n"
     ]
    }
   ],
   "source": [
    "print(training_data[1])"
   ]
  },
  {
   "cell_type": "code",
   "execution_count": null,
   "metadata": {},
   "outputs": [],
   "source": []
  },
  {
   "cell_type": "code",
   "execution_count": 14,
   "metadata": {},
   "outputs": [
    {
     "data": {
      "image/png": "[encoded data removed]",
      "text/plain": [
       "<Figure size 432x288 with 1 Axes>"
      ]
     },
     "metadata": {
      "needs_background": "light"
     },
     "output_type": "display_data"
    }
   ],
   "source": [
    "import matplotlib.pyplot as plt\n",
    "\n",
    "plt.imshow(training_data[1][0], cmap=\"gray\")\n",
    "plt.show()"
   ]
  },
  {
   "cell_type": "code",
   "execution_count": null,
   "metadata": {},
   "outputs": [],
   "source": []
  }
 ],
 "metadata": {
  "kernelspec": {
   "display_name": "Python 3.7 (tensorflow)",
   "language": "python",
   "name": "tensorflow"
  },
  "language_info": {
   "codemirror_mode": {
    "name": "ipython",
    "version": 3
   },
   "file_extension": ".py",
   "mimetype": "text/x-python",
   "name": "python",
   "nbconvert_exporter": "python",
   "pygments_lexer": "ipython3",
   "version": "3.7.6"
  }
 },
 "nbformat": 4,
 "nbformat_minor": 4
}
